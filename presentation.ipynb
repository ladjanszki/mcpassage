{
 "cells": [
  {
   "cell_type": "markdown",
   "metadata": {},
   "source": [
    "# First passage time distribution for Brownian motion\n",
    "- This notebook demonstrates how the first passage time of a given level can be calculated numerically and analitically for a Brownian Motion.\n",
    "- In the repository there is a Seminar Handout from MIT which describes all the details for the analitical derivation of the distribution and its relation to the diffusion equation.\n",
    "\n",
    "$$ f(x, t) = \\frac{x}{\\sqrt{4 \\pi D t^3}} \\exp{\\left(-\\frac{x^2}{4Dt}\\right)}$$\n",
    "\n",
    "Where\n",
    "- $x$ the level we set for crossing\n",
    "- $t$ the time for reaching\n",
    "- $f(x,t)$ is clearly a two dimensional distribtion\n",
    "\n",
    "In the numerical setting we are going to slice this up by $x$ and calculate the one dimensional distribution for given levels.\n",
    "\n",
    "The numerical results will be compared to the analitical distribution. "
   ]
  },
  {
   "cell_type": "code",
   "execution_count": 25,
   "metadata": {},
   "outputs": [],
   "source": [
    "from ipywidgets import interact, interactive, fixed, interact_manual\n",
    "import ipywidgets as widgets\n",
    "import numpy as np\n",
    "import matplotlib.pyplot as plt\n",
    "import time\n",
    "from scipy import integrate\n",
    "\n",
    "import utils"
   ]
  },
  {
   "cell_type": "code",
   "execution_count": 38,
   "metadata": {},
   "outputs": [],
   "source": [
    "def plotResults(X, T, D, allLevelResults, intNorm):\n",
    "    \n",
    "    t = np.linspace(1, T, 100) \n",
    "    y = utils.analyticSolution(X, D, t)\n",
    "\n",
    "    # Integral normalization trick\n",
    "    analyticNorm = 1\n",
    "    if(intNorm):\n",
    "        analyticNorm, error = integrate.quad(utils.analyticSolution, 0, T, args=(X, D,))\n",
    "        \n",
    "    rawResults = allLevelResults[X]\n",
    "    results = rawResults[~np.isnan(rawResults)]\n",
    "\n",
    "    nSample = len(results)\n",
    "    \n",
    "    val, cnt = np.unique(results, return_counts=True)\n",
    "    #prop = analyticNorm * cnt / nSample\n",
    "    prop = cnt / (nSample * analyticNorm)\n",
    "    \n",
    "    plt.bar(val, prop)\n",
    "    \n",
    "    plt.plot(t, y, linewidth=3, color='red')\n",
    "    \n",
    "    print(\"Succesful sample size: \", nSample / len(rawResults) * 100, \"%\")\n",
    "    \n",
    "    \n"
   ]
  },
  {
   "cell_type": "markdown",
   "metadata": {},
   "source": [
    "### Simulation parameters\n",
    "\n",
    "- $x_0$ Starting value of all trajectories\n",
    "- $D$ Diffusion coefficient (PDF setting)\n",
    "- $m$ Normal increment mean for simulation\n",
    "- $s$ Normal increment std. dev. for simulation (related to $D$) \n",
    "- $T$ Simulation time hirizon (length of trajectories)\n",
    "- We assume $dt = 1$"
   ]
  },
  {
   "cell_type": "code",
   "execution_count": 17,
   "metadata": {},
   "outputs": [],
   "source": [
    "x0 = 0.0\n",
    "D = 0.2\n",
    "m = 0.0\n",
    "s = np.sqrt(2 * D)\n",
    "\n",
    "T = 100 \n",
    "nTrajectory = 10000\n",
    "\n",
    "levelMin = 0.1\n",
    "levelMax = 10.0\n",
    "levelStep = 0.1\n",
    "levels = np.arange(levelMin, levelMax, levelStep)"
   ]
  },
  {
   "cell_type": "code",
   "execution_count": 32,
   "metadata": {},
   "outputs": [
    {
     "name": "stdout",
     "output_type": "stream",
     "text": [
      "(0.39894228040143276, 1.6471707569958027e-11)\n"
     ]
    }
   ],
   "source": [
    "tmp = integrate.quad(utils.analyticSolution, 0, T, args=(0.1, D,))\n",
    "print(tmp)"
   ]
  },
  {
   "cell_type": "markdown",
   "metadata": {},
   "source": [
    "### Generating and saving all trajectories\n",
    "\n",
    "By generating and saving trajectories it can be ensured that the distributions for different reached levels will be consistent"
   ]
  },
  {
   "cell_type": "code",
   "execution_count": 18,
   "metadata": {},
   "outputs": [
    {
     "name": "stdout",
     "output_type": "stream",
     "text": [
      "10000 trajectories generated in 4.109764575958252 seconds.\n"
     ]
    }
   ],
   "source": [
    "allTrajectory = utils.trajectoryGenerator(nTrajectory, T, m, s)"
   ]
  },
  {
   "cell_type": "code",
   "execution_count": 19,
   "metadata": {},
   "outputs": [],
   "source": [
    "allLevelResults = {}\n",
    "for actLevel in levels:\n",
    "    allLevelResults[actLevel] = utils.oneLevelStats(allTrajectory, actLevel)"
   ]
  },
  {
   "cell_type": "code",
   "execution_count": 39,
   "metadata": {},
   "outputs": [
    {
     "data": {
      "application/vnd.jupyter.widget-view+json": {
       "model_id": "701408c0162a4128a6bdd8643b967386",
       "version_major": 2,
       "version_minor": 0
      },
      "text/plain": [
       "interactive(children=(Dropdown(description='X', options=(0.1, 0.2, 0.30000000000000004, 0.4, 0.5, 0.6, 0.70000…"
      ]
     },
     "metadata": {},
     "output_type": "display_data"
    },
    {
     "data": {
      "text/plain": [
       "<function __main__.plotResults(X, T, D, allLevelResults, intNorm)>"
      ]
     },
     "execution_count": 39,
     "metadata": {},
     "output_type": "execute_result"
    }
   ],
   "source": [
    "interact(plotResults, X=levels, T=fixed(T), D=fixed(D), allLevelResults=fixed(allLevelResults), intNorm=False)"
   ]
  }
 ],
 "metadata": {
  "kernelspec": {
   "display_name": "Python 3",
   "language": "python",
   "name": "python3"
  },
  "language_info": {
   "codemirror_mode": {
    "name": "ipython",
    "version": 3
   },
   "file_extension": ".py",
   "mimetype": "text/x-python",
   "name": "python",
   "nbconvert_exporter": "python",
   "pygments_lexer": "ipython3",
   "version": "3.6.9"
  }
 },
 "nbformat": 4,
 "nbformat_minor": 2
}
