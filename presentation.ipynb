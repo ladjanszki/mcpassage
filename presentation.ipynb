{
 "cells": [
  {
   "cell_type": "code",
   "execution_count": 40,
   "metadata": {},
   "outputs": [],
   "source": [
    "from ipywidgets import interact, interactive, fixed, interact_manual\n",
    "import ipywidgets as widgets\n",
    "import numpy as np\n",
    "import matplotlib.pyplot as plt\n",
    "import time\n",
    "\n",
    "import utils\n"
   ]
  },
  {
   "cell_type": "code",
   "execution_count": 107,
   "metadata": {},
   "outputs": [],
   "source": [
    "def plotResults(X, T, D, allLevelResults):\n",
    "    t = np.linspace(1, T, 100) \n",
    "    \n",
    "    y = utils.analyticSolution(X, D, t)\n",
    "\n",
    "    rawResults = allLevelResults[X]\n",
    "    results = rawResults[~np.isnan(rawResults)]\n",
    "\n",
    "    nSample = len(results)\n",
    "    \n",
    "    val, cnt = np.unique(results, return_counts=True)\n",
    "    prop = cnt / nSample\n",
    "    \n",
    "    plt.bar(val, prop)\n",
    "    \n",
    "    plt.plot(t, y)\n",
    "    \n",
    "    print(\"Succesful sample size: \", nSample / len(rawResults) * 100, \"%\")\n",
    "    \n",
    "    \n"
   ]
  },
  {
   "cell_type": "markdown",
   "metadata": {},
   "source": [
    "### Distribution and Brownian motion parameteres details"
   ]
  },
  {
   "cell_type": "code",
   "execution_count": 44,
   "metadata": {},
   "outputs": [],
   "source": [
    "x0 = 0.0\n",
    "D = 0.2\n",
    "m = 0.0\n",
    "s = np.sqrt(2 * D)"
   ]
  },
  {
   "cell_type": "markdown",
   "metadata": {},
   "source": [
    "### Simulation params"
   ]
  },
  {
   "cell_type": "code",
   "execution_count": 97,
   "metadata": {},
   "outputs": [],
   "source": [
    "T = 100 #End time of simulation\n",
    "# We assume dt = 1\n",
    "nTrajectory = 10\n",
    "\n",
    "levelMin = 0.0\n",
    "levelMax = 10.0\n",
    "levelStep = 0.1\n",
    "levels = np.arange(levelMin, levelMax, levelStep)"
   ]
  },
  {
   "cell_type": "markdown",
   "metadata": {},
   "source": [
    "### Generating and saving all trajectories\n",
    "\n",
    "By generating and saving trajectories it can be ensured that the distributions for different reached levels will be consistent"
   ]
  },
  {
   "cell_type": "code",
   "execution_count": 81,
   "metadata": {},
   "outputs": [
    {
     "name": "stdout",
     "output_type": "stream",
     "text": [
      "10000 trajectories generated in 2.181480884552002 seconds.\n"
     ]
    }
   ],
   "source": [
    "allTrajectory = utils.trajectoryGenerator(nTrajectory, T, m, s)"
   ]
  },
  {
   "cell_type": "code",
   "execution_count": 88,
   "metadata": {},
   "outputs": [],
   "source": [
    "allLevelResults = {}\n",
    "for actLevel in levels:\n",
    "    # print(utils.oneLevelStats(allTrajectory, actLevel))\n",
    "    \n",
    "    allLevelResults[actLevel] = utils.oneLevelStats(allTrajectory, actLevel)\n",
    "    "
   ]
  },
  {
   "cell_type": "code",
   "execution_count": 108,
   "metadata": {},
   "outputs": [
    {
     "data": {
      "application/vnd.jupyter.widget-view+json": {
       "model_id": "2547977c236e4256933c72f2a6a7c4b5",
       "version_major": 2,
       "version_minor": 0
      },
      "text/plain": [
       "interactive(children=(Dropdown(description='X', options=(0.0, 0.1, 0.2, 0.30000000000000004, 0.4, 0.5, 0.60000…"
      ]
     },
     "metadata": {},
     "output_type": "display_data"
    },
    {
     "data": {
      "text/plain": [
       "<function __main__.plotResults(X, T, D, allLevelResults)>"
      ]
     },
     "execution_count": 108,
     "metadata": {},
     "output_type": "execute_result"
    }
   ],
   "source": [
    "interact(plotResults, X=levels, T=fixed(T), D=fixed(D), allLevelResults=fixed(allLevelResults))"
   ]
  }
 ],
 "metadata": {
  "kernelspec": {
   "display_name": "Python 3",
   "language": "python",
   "name": "python3"
  },
  "language_info": {
   "codemirror_mode": {
    "name": "ipython",
    "version": 3
   },
   "file_extension": ".py",
   "mimetype": "text/x-python",
   "name": "python",
   "nbconvert_exporter": "python",
   "pygments_lexer": "ipython3",
   "version": "3.6.9"
  }
 },
 "nbformat": 4,
 "nbformat_minor": 2
}
